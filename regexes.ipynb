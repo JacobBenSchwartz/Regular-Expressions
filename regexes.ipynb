{
 "cells": [
  {
   "cell_type": "markdown",
   "metadata": {},
   "source": [
    "# Regular Expressions\n",
    "\n",
    "Like a good espresso, regular expressions require care and precision to avoid either a watery mess or bitter sludge.\n",
    "\n",
    "We will not have time to cover everything about **regexes** here, but this introduction should help you feel comfortable poking around and using them in your own code."
   ]
  },
  {
   "cell_type": "code",
   "execution_count": 5,
   "metadata": {},
   "outputs": [],
   "source": [
    "sample_text = \"\"\"\n",
    "“Ye kings and warriors! may your vows be crown’d,\n",
    "And Troy’s proud walls lie level with the ground.\n",
    "May Jove restore you when your toils are o’er\n",
    "Safe to the pleasures of your native shore.\n",
    "But, oh! relieve a wretched parent’s pain,\n",
    "And give Chryseïs to these arms again;\n",
    "If mercy fail, yet let my presents move,\n",
    "And dread avenging Phœbus, son of Jove.”\n",
    "\"\"\""
   ]
  },
  {
   "cell_type": "code",
   "execution_count": 6,
   "metadata": {},
   "outputs": [
    {
     "data": {
      "text/plain": [
       "[['Ye', 'kings', 'and', 'warriors', 'may', 'your', 'vows', 'be', 'crown’d'],\n",
       " ['And', 'Troy’s', 'proud', 'walls', 'lie', 'level', 'with', 'the', 'ground'],\n",
       " ['May', 'Jove', 'restore', 'you', 'when', 'your', 'toils', 'are', 'o’er'],\n",
       " ['Safe', 'to', 'the', 'pleasures', 'of', 'your', 'native', 'shore'],\n",
       " ['But', 'oh', 'relieve', 'a', 'wretched', 'parent’s', 'pain'],\n",
       " ['And', 'give', 'Chryseïs', 'to', 'these', 'arms', 'again'],\n",
       " ['If', 'mercy', 'fail', 'yet', 'let', 'my', 'presents', 'move'],\n",
       " ['And', 'dread', 'avenging', 'Phœbus', 'son', 'of', 'Jove']]"
      ]
     },
     "execution_count": 6,
     "metadata": {},
     "output_type": "execute_result"
    }
   ],
   "source": [
    "import re\n",
    "\n",
    "word_regex = re.compile(r\"[\\s\\.,!;”“]+\")\n",
    "\n",
    "lines = [[w for w in word_regex.split(l) if w != \"\"] for l in sample_text.strip().splitlines()]\n",
    "lines"
   ]
  },
  {
   "cell_type": "code",
   "execution_count": 7,
   "metadata": {},
   "outputs": [
    {
     "data": {
      "text/plain": [
       "1"
      ]
     },
     "execution_count": 7,
     "metadata": {},
     "output_type": "execute_result"
    }
   ],
   "source": [
    "n_ground = 0\n",
    "for line in lines:\n",
    "    for word in line:\n",
    "        if word == \"ground\":\n",
    "            n_ground += 1\n",
    "\n",
    "n_ground"
   ]
  },
  {
   "cell_type": "markdown",
   "metadata": {},
   "source": [
    "## Homework\n",
    "\n",
    "Using the code above as a guide, get the counts for _every_ word in `sample_text`."
   ]
  },
  {
   "cell_type": "code",
   "execution_count": 8,
   "metadata": {},
   "outputs": [
    {
     "name": "stdout",
     "output_type": "stream",
     "text": [
      "\n",
      "ye = 1\n",
      "kings = 1\n",
      "and = 4\n",
      "warriors = 1\n",
      "may = 2\n",
      "your = 3\n",
      "vows = 1\n",
      "be = 1\n",
      "crown'd = 1\n",
      "troy's = 1\n",
      "proud = 1\n",
      "walls = 1\n",
      "lie = 1\n",
      "level = 1\n",
      "\n"
     ]
    }
   ],
   "source": [
    "sample_text = \"\"\"\n",
    "“Ye kings and warriors! may your vows be crown’d,\n",
    "And Troy’s proud walls lie level with the ground.\n",
    "May Jove restore you when your toils are o’er\n",
    "Safe to the pleasures of your native shore.\n",
    "But, oh! relieve a wretched parent’s pain,\n",
    "And give Chryseïs to these arms again;\n",
    "If mercy fail, yet let my presents move,\n",
    "And dread avenging Phœbus, son of Jove.”\n",
    "\"\"\"\n",
    "\n",
    "import re\n",
    "\n",
    "word_regex = re.compile(r\"[\\s\\.,!;”“]+\")\n",
    "\n",
    "lines = [[w for w in word_regex.split(l) if w != \"\"] for l in sample_text.lower().strip().splitlines()]\n",
    "\n",
    "n_ye = 0\n",
    "n_kings = 0\n",
    "n_and = 0\n",
    "n_warriors = 0\n",
    "n_may = 0\n",
    "n_your = 0\n",
    "n_vows = 0\n",
    "n_be = 0\n",
    "n_crown_d = 0\n",
    "n_troy_s = 0\n",
    "n_proud = 0\n",
    "n_walls = 0\n",
    "n_lie = 0\n",
    "n_level = 0\n",
    "n_with = 0\n",
    "n_the = 0\n",
    "n_ground = 0\n",
    "n_jove = 0\n",
    "n_restore = 0\n",
    "n_you = 0\n",
    "n_when = 0\n",
    "n_toils = 0\n",
    "n_are = 0\n",
    "n_o_er = 0\n",
    "n_safe = 0\n",
    "n_to = 0\n",
    "n_pleasures = 0\n",
    "n_of = 0\n",
    "n_native = 0\n",
    "n_shore = 0\n",
    "n_but = 0\n",
    "n_oh = 0\n",
    "n_relieve = 0\n",
    "n_a = 0\n",
    "n_wretched = 0\n",
    "n_parent_s = 0\n",
    "n_pain = 0\n",
    "n_give = 0\n",
    "n_chryseis = 0\n",
    "n_these = 0\n",
    "n_arms = 0\n",
    "n_again = 0\n",
    "n_if = 0\n",
    "n_mercy = 0\n",
    "n_fail = 0\n",
    "n_yet = 0\n",
    "n_let = 0\n",
    "n_my = 0\n",
    "n_presents = 0\n",
    "n_move = 0\n",
    "n_dread = 0\n",
    "n_avenging = 0\n",
    "n_Phoebus = 0\n",
    "n_son = 0\n",
    "\n",
    "\n",
    "\n",
    "\n",
    "for line in lines:\n",
    "    for word in line:\n",
    "        if word == \"ye\":\n",
    "            n_ye += 1\n",
    "        elif word == \"kings\":\n",
    "            n_kings += 1\n",
    "        elif word == \"and\":\n",
    "            n_and += 1\n",
    "        elif word == \"warriors\":\n",
    "            n_warriors += 1\n",
    "        elif word == \"may\":\n",
    "            n_may += 1\n",
    "        elif word == \"your\":\n",
    "            n_your += 1\n",
    "        elif word == \"vows\":\n",
    "            n_vows += 1\n",
    "        elif word == \"be\":\n",
    "            n_be += 1\n",
    "        elif word == \"crown’d\":\n",
    "            n_crown_d += 1\n",
    "        elif word == \"troy’s\":\n",
    "            n_troy_s += 1\n",
    "        elif word == \"proud\":\n",
    "            n_proud += 1\n",
    "        elif word == \"walls\":\n",
    "            n_walls += 1\n",
    "        elif word == \"lie\":\n",
    "            n_lie += 1\n",
    "        elif word == \"level\":\n",
    "            n_level += 1\n",
    "        elif word == \"with\":\n",
    "            n_with += 1\n",
    "        elif word == \"the\":\n",
    "            n_the += 1\n",
    "        elif word == \"ground\":\n",
    "            n_ground += 1\n",
    "        elif word == \"jove\":\n",
    "            n_jove += 1\n",
    "        elif word == \"restore\":\n",
    "            n_restore += 1\n",
    "        elif word == \"you\":\n",
    "            n_you += 1\n",
    "        elif word == \"when\":\n",
    "            n_when += 1\n",
    "        elif word == \"toils\":\n",
    "            n_toils += 1\n",
    "\n",
    "print(f\"\"\"\n",
    "ye = {n_ye}\n",
    "kings = {n_kings}\n",
    "and = {n_and}\n",
    "warriors = {n_warriors}\n",
    "may = {n_may}\n",
    "your = {n_your}\n",
    "vows = {n_vows}\n",
    "be = {n_be}\n",
    "crown'd = {n_crown_d}\n",
    "troy's = {n_troy_s}\n",
    "proud = {n_proud}\n",
    "walls = {n_walls}\n",
    "lie = {n_lie}\n",
    "level = {n_level}\n",
    "\"\"\")"
   ]
  }
 ],
 "metadata": {
  "kernelspec": {
   "display_name": "Python 3",
   "language": "python",
   "name": "python3"
  },
  "language_info": {
   "codemirror_mode": {
    "name": "ipython",
    "version": 3
   },
   "file_extension": ".py",
   "mimetype": "text/x-python",
   "name": "python",
   "nbconvert_exporter": "python",
   "pygments_lexer": "ipython3",
   "version": "3.12.1"
  }
 },
 "nbformat": 4,
 "nbformat_minor": 2
}
