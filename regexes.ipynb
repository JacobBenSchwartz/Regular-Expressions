{
 "cells": [
  {
   "cell_type": "markdown",
   "metadata": {},
   "source": [
    "# Regular Expressions\n",
    "\n",
    "Like a good espresso, regular expressions require care and precision to avoid either a watery mess or bitter sludge.\n",
    "\n",
    "We will not have time to cover everything about **regexes** here, but this introduction should help you feel comfortable poking around and using them in your own code."
   ]
  },
  {
   "cell_type": "code",
   "execution_count": 8,
   "metadata": {},
   "outputs": [],
   "source": [
    "sample_text = \"\"\"\n",
    "“Ye kings and warriors! may your vows be crown’d,\n",
    "And Troy’s proud walls lie level with the ground.\n",
    "May Jove restore you when your toils are o’er\n",
    "Safe to the pleasures of your native shore.\n",
    "But, oh! relieve a wretched parent’s pain,\n",
    "And give Chryseïs to these arms again;\n",
    "If mercy fail, yet let my presents move,\n",
    "And dread avenging Phœbus, son of Jove.”\n",
    "\"\"\""
   ]
  },
  {
   "cell_type": "code",
   "execution_count": 14,
   "metadata": {},
   "outputs": [
    {
     "data": {
      "text/plain": [
       "[['ye', 'kings', 'and', 'warriors', 'may', 'your', 'vows', 'be', 'crown’d'],\n",
       " ['and', 'troy’s', 'proud', 'walls', 'lie', 'level', 'with', 'the', 'ground'],\n",
       " ['may', 'jove', 'restore', 'you', 'when', 'your', 'toils', 'are', 'o’er'],\n",
       " ['safe', 'to', 'the', 'pleasures', 'of', 'your', 'native', 'shore'],\n",
       " ['but', 'oh', 'relieve', 'a', 'wretched', 'parent’s', 'pain'],\n",
       " ['and', 'give', 'chryseïs', 'to', 'these', 'arms', 'again'],\n",
       " ['if', 'mercy', 'fail', 'yet', 'let', 'my', 'presents', 'move'],\n",
       " ['and', 'dread', 'avenging', 'phœbus', 'son', 'of', 'jove']]"
      ]
     },
     "execution_count": 14,
     "metadata": {},
     "output_type": "execute_result"
    }
   ],
   "source": [
    "import re\n",
    "\n",
    "word_regex = re.compile(r\"[\\s\\.,!;”“]+\")\n",
    "\n",
    "lines = [[w for w in word_regex.split(l) if w != \"\"] for l in sample_text.lower().strip().splitlines()]\n",
    "lines"
   ]
  },
  {
   "cell_type": "code",
   "execution_count": 15,
   "metadata": {},
   "outputs": [
    {
     "data": {
      "text/plain": [
       "1"
      ]
     },
     "execution_count": 15,
     "metadata": {},
     "output_type": "execute_result"
    }
   ],
   "source": [
    "n_ground = 0\n",
    "for line in lines:\n",
    "    for word in line:\n",
    "        if word == \"ground\":\n",
    "            n_ground += 1\n",
    "\n",
    "n_ground"
   ]
  },
  {
   "cell_type": "markdown",
   "metadata": {},
   "source": [
    "## Homework\n",
    "\n",
    "Using the code above as a guide, get the counts for _every_ word in `sample_text`."
   ]
  },
  {
   "cell_type": "code",
   "execution_count": 20,
   "metadata": {},
   "outputs": [
    {
     "name": "stdout",
     "output_type": "stream",
     "text": [
      "ye = 1\n",
      "kings = 1\n",
      "and = 4\n",
      "warriors = 1\n"
     ]
    }
   ],
   "source": [
    "n_ye = 0\n",
    "n_kings = 0\n",
    "n_and = 0\n",
    "n_warriors = 0\n",
    "\n",
    "for line in lines:\n",
    "    for word in line:\n",
    "        if word == \"ye\":\n",
    "            n_ye += 1\n",
    "        elif word == \"kings\":\n",
    "            n_kings += 1\n",
    "        elif word == \"and\":\n",
    "            n_and += 1\n",
    "        elif word == \"warriors\":\n",
    "            n_warriors += 1\n",
    "\n",
    "print(f\"ye = {n_ye}\")\n",
    "print(f\"kings = {n_kings}\")\n",
    "print(f\"and = {n_and}\")\n",
    "print(f\"warriors = {n_warriors}\")"
   ]
  }
 ],
 "metadata": {
  "kernelspec": {
   "display_name": "Python 3",
   "language": "python",
   "name": "python3"
  },
  "language_info": {
   "codemirror_mode": {
    "name": "ipython",
    "version": 3
   },
   "file_extension": ".py",
   "mimetype": "text/x-python",
   "name": "python",
   "nbconvert_exporter": "python",
   "pygments_lexer": "ipython3",
   "version": "3.12.1"
  }
 },
 "nbformat": 4,
 "nbformat_minor": 2
}
